{
  "cells": [
    {
      "cell_type": "markdown",
      "source": [
        "<a target=\"_blank\" href=\"https://colab.research.google.com/github/chasubeen/Kwater/tree/subeen\">\n",
        "  <img src=\"https://colab.research.google.com/assets/colab-badge.svg\" alt=\"Open In Colab\"/>\n",
        "</a>"
      ],
      "metadata": {
        "id": "G5RhGe0kMy7M"
      }
    },
    {
      "cell_type": "code",
      "source": [
        "from google.colab import drive\n",
        "drive.mount('/content/drive')"
      ],
      "metadata": {
        "id": "W6P0scFrRK1d",
        "colab": {
          "base_uri": "https://localhost:8080/"
        },
        "outputId": "f19082e7-8b33-4744-cb2d-6a16727f199c"
      },
      "execution_count": null,
      "outputs": [
        {
          "output_type": "stream",
          "name": "stdout",
          "text": [
            "Drive already mounted at /content/drive; to attempt to forcibly remount, call drive.mount(\"/content/drive\", force_remount=True).\n"
          ]
        }
      ]
    },
    {
      "cell_type": "code",
      "execution_count": null,
      "metadata": {
        "id": "erNgSVGCQ9pD"
      },
      "outputs": [],
      "source": [
        "import numpy as np\n",
        "import pandas as pd\n",
        "\n",
        "import os\n",
        "import chardet"
      ]
    },
    {
      "cell_type": "code",
      "source": [
        "pd.set_option('display.float_format', None) # 과학적 표기법 x"
      ],
      "metadata": {
        "id": "PVItXHpTHgO_"
      },
      "execution_count": null,
      "outputs": []
    },
    {
      "cell_type": "markdown",
      "source": [
        "# **1. EDA**"
      ],
      "metadata": {
        "id": "wk5BmV_nIF3v"
      }
    },
    {
      "cell_type": "code",
      "source": [],
      "metadata": {
        "id": "v2jHFxhhIIGQ"
      },
      "execution_count": null,
      "outputs": []
    },
    {
      "cell_type": "markdown",
      "source": [
        "# **2. 데이터 스케일링**"
      ],
      "metadata": {
        "id": "yGyimMWV-8Hy"
      }
    },
    {
      "cell_type": "markdown",
      "source": [
        "- train/test split 후 진행해야 함\n",
        "- EDA -> train/test split -> 스케일링 진행"
      ],
      "metadata": {
        "id": "82Io9rrjDOBP"
      }
    },
    {
      "cell_type": "markdown",
      "source": [
        "## **2-1. 표준화(StandardScaler)**"
      ],
      "metadata": {
        "id": "Ulraq6L1_REY"
      }
    },
    {
      "cell_type": "markdown",
      "source": [
        "- 데이터가 X_train, y_train, X_test, y_test로 분할되었다고 가정"
      ],
      "metadata": {
        "id": "JCm9ZMD0ELo5"
      }
    },
    {
      "cell_type": "code",
      "source": [
        "from sklearn.preprocessing import StandardScaler\n",
        "\n",
        "std = StandardScaler()\n",
        "std_X_train = std.fit_transform(X_train)\n",
        "std_X_test = std.transform(X_test)"
      ],
      "metadata": {
        "id": "554jQwjG_VsB"
      },
      "execution_count": null,
      "outputs": []
    },
    {
      "cell_type": "code",
      "source": [
        "# 학습용 데이터\n",
        "\n",
        "pd.DataFrame(std_X_train, columns = X_train.columns)"
      ],
      "metadata": {
        "id": "lxSH0vFeBOH5"
      },
      "execution_count": null,
      "outputs": []
    },
    {
      "cell_type": "code",
      "source": [
        "# 평가용 데이터\n",
        "\n",
        "pd.DataFrame(std_X_test, columns = X_test.columns)"
      ],
      "metadata": {
        "id": "GB3Km2efFiEg"
      },
      "execution_count": null,
      "outputs": []
    },
    {
      "cell_type": "markdown",
      "source": [
        "### **2-2. 정규화(MinMaxScaler)**"
      ],
      "metadata": {
        "id": "ym2alFoeGGXm"
      }
    },
    {
      "cell_type": "code",
      "source": [
        "from sklearn.preprocessing import MinMaxScaler\n",
        "\n",
        "mms = StandardScaler()\n",
        "mms_X_train = mms.fit_transform(X_train)\n",
        "mms_X_test = mms.transform(X_test)"
      ],
      "metadata": {
        "id": "dAQ-t05_Gpx_"
      },
      "execution_count": null,
      "outputs": []
    },
    {
      "cell_type": "code",
      "source": [
        "# 학습용 데이터\n",
        "\n",
        "pd.DataFrame(mms_X_train, columns = X_train.columns)"
      ],
      "metadata": {
        "id": "QuxFDLu4G8FG"
      },
      "execution_count": null,
      "outputs": []
    },
    {
      "cell_type": "code",
      "source": [
        "# 평가용 데이터\n",
        "\n",
        "pd.DataFrame(mms_X_test, columns = X_test.columns)"
      ],
      "metadata": {
        "id": "aBJ7DPYzG9VH"
      },
      "execution_count": null,
      "outputs": []
    },
    {
      "cell_type": "markdown",
      "source": [
        "### **2-3. 표준정규화(RobustScaler)**\n",
        "- 데이터의 중앙값(median)과 IQR(Interquartile Range)을 사용하여 스케일링을 수행\n",
        "  - 이상치에 영향을 덜 받음"
      ],
      "metadata": {
        "id": "UDiDWdUtHDbI"
      }
    },
    {
      "cell_type": "code",
      "source": [
        "from sklearn.preprocessing import RobustScaler\n",
        "\n",
        "robust = RobustScaler()\n",
        "robust_X_train = robust.fit_transform(X_train)\n",
        "robust_X_test = robust.transform(X_test)"
      ],
      "metadata": {
        "id": "q17INbxYHSHy"
      },
      "execution_count": null,
      "outputs": []
    },
    {
      "cell_type": "code",
      "source": [
        "# 학습용 데이터\n",
        "pd.DataFrame(robust_X_train, columns = X_train.columns)"
      ],
      "metadata": {
        "id": "GcEdDOzVHaUe"
      },
      "execution_count": null,
      "outputs": []
    },
    {
      "cell_type": "code",
      "source": [
        "# 평가용 데이터\n",
        "pd.DataFrame(robust_X_test, columns = X_test.columns)"
      ],
      "metadata": {
        "id": "-6OdUigEHcCC"
      },
      "execution_count": null,
      "outputs": []
    },
    {
      "cell_type": "markdown",
      "source": [
        "# **3. 회귀 모델링**"
      ],
      "metadata": {
        "id": "64AZ_XRL7vDm"
      }
    },
    {
      "cell_type": "code",
      "source": [
        "import pandas as pd\n",
        "import numpy as np\n",
        "np.set_printoptions(suppress=True)"
      ],
      "metadata": {
        "id": "xedRnCHE_BYo"
      },
      "execution_count": 22,
      "outputs": []
    },
    {
      "cell_type": "code",
      "source": [
        "import matplotlib.pyplot as plt\n",
        "import seaborn as sns"
      ],
      "metadata": {
        "id": "ZdaNcaWg8fAm"
      },
      "execution_count": 23,
      "outputs": []
    },
    {
      "cell_type": "markdown",
      "source": [
        "## **모델별 성능 시각화를 위한 함수**"
      ],
      "metadata": {
        "id": "5md5RUT-_szo"
      }
    },
    {
      "cell_type": "code",
      "source": [
        "my_predictions = {} # 빈 딕셔너리\n",
        "\n",
        "colors = [\n",
        "    'khaki', 'teal', 'orchid', 'sandybrown', 'greenyellow', 'dodgerblue', 'rosybrown',\n",
        "    'deeppink', 'salmon', 'olivedrab', 'olive', 'forestgreen',\n",
        "    'royalblue', 'mediumpurple', 'gold', 'seagreen',\n",
        "    'turquoise', 'steelblue', 'slategray', 'peru', 'slateblue', 'cadetblue',\n",
        "    'lime', 'lavender', 'lightcoral', 'lightseagreen', 'lightskyblue', 'lightgreen',\n",
        "    'lightpink', 'lightsalmon', 'lightsteelblue', 'lightyellow', 'palegreen',\n",
        "]"
      ],
      "metadata": {
        "id": "iknyWBRQ79nU"
      },
      "execution_count": 24,
      "outputs": []
    },
    {
      "cell_type": "code",
      "source": [
        "## 예측값, 실제값을 산점도로 표현\n",
        "def plot_predictions(name_,pred,actual): # parameter: 모델명, 예측값, 실제값\n",
        "  df = pd.DataFrame({'prediction' : pred,'actual': y_test})\n",
        "  df = df.sort_values(by = 'actual').reset_index(drop = True)\n",
        "\n",
        "  plt.figure(figsize = (10,7))\n",
        "  plt.scatter(df.index,df['prediction'],marker = 'o',color = 'blue')\n",
        "  plt.scatter(df.index,df['actual'],alpha = 0.7,marker = 'x',color = 'black')\n",
        "  plt.title(name_,fontsize = 15)\n",
        "  plt.legend(['prediction','actual'],fontsize = 12)\n",
        "  plt.show()"
      ],
      "metadata": {
        "id": "BukOtVuG_p8j"
      },
      "execution_count": 25,
      "outputs": []
    },
    {
      "cell_type": "code",
      "source": [
        "## 평가 지표 시각화\n",
        "def model_eval(name_, pred, actual):\n",
        "  global my_predictions\n",
        "  global colors\n",
        "\n",
        "  plot_predictions(name_,pred,actual)\n",
        "\n",
        "  mse = mean_squared_error(pred,actual)\n",
        "  r2 = r2_score(pred, actual)\n",
        "  my_predictions[name_] = {'mse': mse, 'R-Squared': r2}\n",
        "\n",
        "  # MSE 기준으로 내림차순 정렬\n",
        "  df = pd.DataFrame(my_predictions).T\n",
        "  df = df[['mse', 'R-Squared']]  # 열 순서 변경\n",
        "  df = df.sort_values(by = 'mse', ascending = False)\n",
        "  print()\n",
        "\n",
        "  # 상한, 하한 설정\n",
        "  min_ = df['mse'].min() - 10\n",
        "  max_ = df['mse'].max() + 10\n",
        "\n",
        "  length = len(df)\n",
        "\n",
        "  plt.figure(figsize = (8,length))\n",
        "  ax = plt.subplot() # subplot 객체\n",
        "  ax.set_yticks(np.arange(len(df)))\n",
        "  ax.set_yticklabels(df.index,fontsize = 15)\n",
        "  bars = ax.barh(np.arange(len(df)),df['mse'])\n",
        "\n",
        "  for i,v in enumerate(df['mse']): # 인덱스, value\n",
        "    idx = np.random.choice(len(colors))\n",
        "    bars[i].set_color(colors[idx])\n",
        "    ax.text(v + 2,i,str(round(v,3)),color = 'k',fontsize = 15,fontweight = 'bold')\n",
        "\n",
        "  plt.title('MSE Error',fontsize = 18)\n",
        "  plt.xlim(min_,max_)\n",
        "\n",
        "  plt.show()\n",
        "\n",
        "  print()\n",
        "  print(\"\\nMSE and R-Squared\")\n",
        "  print(df)"
      ],
      "metadata": {
        "id": "riXQrJy8_oPE"
      },
      "execution_count": 26,
      "outputs": []
    },
    {
      "cell_type": "markdown",
      "source": [
        "### **예시 모델링**"
      ],
      "metadata": {
        "id": "p9drAOAgJ4c4"
      }
    },
    {
      "cell_type": "code",
      "source": [
        "### 데이터 생성\n",
        "\n",
        "from sklearn.datasets import make_regression\n",
        "X, y = make_regression(n_samples=1000, n_features=1, noise=10, random_state=0)"
      ],
      "metadata": {
        "id": "xaSktmeDAKCe"
      },
      "execution_count": 27,
      "outputs": []
    },
    {
      "cell_type": "code",
      "source": [
        "from sklearn.model_selection import train_test_split\n",
        "\n",
        "X_train, X_test, y_train, y_test = train_test_split(X, y, test_size=0.2, random_state=0)"
      ],
      "metadata": {
        "id": "KZel06OfAN98"
      },
      "execution_count": 28,
      "outputs": []
    },
    {
      "cell_type": "code",
      "source": [
        "from sklearn.linear_model import LinearRegression\n",
        "from sklearn.metrics import mean_squared_error, r2_score\n",
        "\n",
        "# 선형 회귀 모델 초기화\n",
        "model = LinearRegression(n_jobs = -1)\n",
        "\n",
        "# 모델 학습\n",
        "model.fit(X_train, y_train)\n",
        "\n",
        "# 예측\n",
        "pred = model.predict(X_test)\n",
        "\n",
        "# 평가\n",
        "model_eval('LinearRegression',pred,y_test) # 모델, pred, actual"
      ],
      "metadata": {
        "colab": {
          "base_uri": "https://localhost:8080/",
          "height": 881
        },
        "id": "UiZBxKDzBv5E",
        "outputId": "43f02f3d-4953-47e8-9933-2b99911303c9"
      },
      "execution_count": 29,
      "outputs": [
        {
          "output_type": "display_data",
          "data": {
            "text/plain": [
              "<Figure size 1000x700 with 1 Axes>"
            ],
            "image/png": "[encoded data removed]"
          },
          "metadata": {}
        },
        {
          "output_type": "stream",
          "name": "stdout",
          "text": [
            "\n"
          ]
        },
        {
          "output_type": "display_data",
          "data": {
            "text/plain": [
              "<Figure size 800x100 with 1 Axes>"
            ],
            "image/png": "[encoded data removed]"
          },
          "metadata": {}
        },
        {
          "output_type": "stream",
          "name": "stdout",
          "text": [
            "\n",
            "\n",
            "MSE and R-Squared\n",
            "                        mse  R-Squared\n",
            "LinearRegression  92.459379   0.983678\n"
          ]
        }
      ]
    }
  ],
  "metadata": {
    "kernelspec": {
      "display_name": "Python 3",
      "language": "python",
      "name": "python3"
    },
    "language_info": {
      "codemirror_mode": {
        "name": "ipython",
        "version": 3
      },
      "file_extension": ".py",
      "mimetype": "text/x-python",
      "name": "python",
      "nbconvert_exporter": "python",
      "pygments_lexer": "ipython3",
      "version": "3.10.7"
    },
    "orig_nbformat": 4,
    "colab": {
      "provenance": []
    }
  },
  "nbformat": 4,
  "nbformat_minor": 0
}